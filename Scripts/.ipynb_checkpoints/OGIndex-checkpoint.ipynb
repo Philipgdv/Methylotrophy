{
 "cells": [
  {
   "cell_type": "code",
   "execution_count": 7,
   "metadata": {},
   "outputs": [],
   "source": [
    "\n",
    "#from ete3 import PhyloTree\n",
    "#from os.path import join\n"
   ]
  },
  {
   "cell_type": "code",
   "execution_count": 69,
   "metadata": {},
   "outputs": [
    {
     "data": {
      "text/html": [
       "<div>\n",
       "<style scoped>\n",
       "    .dataframe tbody tr th:only-of-type {\n",
       "        vertical-align: middle;\n",
       "    }\n",
       "\n",
       "    .dataframe tbody tr th {\n",
       "        vertical-align: top;\n",
       "    }\n",
       "\n",
       "    .dataframe thead th {\n",
       "        text-align: right;\n",
       "    }\n",
       "</style>\n",
       "<table border=\"1\" class=\"dataframe\">\n",
       "  <thead>\n",
       "    <tr style=\"text-align: right;\">\n",
       "      <th></th>\n",
       "      <th>OF_OGs</th>\n",
       "      <th>eggNOG_OGs</th>\n",
       "    </tr>\n",
       "  </thead>\n",
       "  <tbody>\n",
       "    <tr>\n",
       "      <th>0</th>\n",
       "      <td>OG0000004</td>\n",
       "      <td>COG0451</td>\n",
       "    </tr>\n",
       "    <tr>\n",
       "      <th>1</th>\n",
       "      <td>OG0000011</td>\n",
       "      <td>COG0546</td>\n",
       "    </tr>\n",
       "    <tr>\n",
       "      <th>2</th>\n",
       "      <td>OG0000015</td>\n",
       "      <td>COG2006</td>\n",
       "    </tr>\n",
       "    <tr>\n",
       "      <th>3</th>\n",
       "      <td>OG0000016</td>\n",
       "      <td>COG1063</td>\n",
       "    </tr>\n",
       "    <tr>\n",
       "      <th>4</th>\n",
       "      <td>OG0000017</td>\n",
       "      <td>COG2141</td>\n",
       "    </tr>\n",
       "    <tr>\n",
       "      <th>...</th>\n",
       "      <td>...</td>\n",
       "      <td>...</td>\n",
       "    </tr>\n",
       "    <tr>\n",
       "      <th>851</th>\n",
       "      <td>OG0001488</td>\n",
       "      <td>COG0406</td>\n",
       "    </tr>\n",
       "    <tr>\n",
       "      <th>852</th>\n",
       "      <td>OG0001489</td>\n",
       "      <td>COG0042</td>\n",
       "    </tr>\n",
       "    <tr>\n",
       "      <th>853</th>\n",
       "      <td>OG0001492</td>\n",
       "      <td>COG0863</td>\n",
       "    </tr>\n",
       "    <tr>\n",
       "      <th>854</th>\n",
       "      <td>OG0001498</td>\n",
       "      <td>COG1028</td>\n",
       "    </tr>\n",
       "    <tr>\n",
       "      <th>855</th>\n",
       "      <td>OG0001503</td>\n",
       "      <td>COG0115</td>\n",
       "    </tr>\n",
       "  </tbody>\n",
       "</table>\n",
       "<p>856 rows × 2 columns</p>\n",
       "</div>"
      ],
      "text/plain": [
       "        OF_OGs eggNOG_OGs\n",
       "0    OG0000004    COG0451\n",
       "1    OG0000011    COG0546\n",
       "2    OG0000015    COG2006\n",
       "3    OG0000016    COG1063\n",
       "4    OG0000017    COG2141\n",
       "..         ...        ...\n",
       "851  OG0001488    COG0406\n",
       "852  OG0001489    COG0042\n",
       "853  OG0001492    COG0863\n",
       "854  OG0001498    COG1028\n",
       "855  OG0001503    COG0115\n",
       "\n",
       "[856 rows x 2 columns]"
      ]
     },
     "execution_count": 69,
     "metadata": {},
     "output_type": "execute_result"
    }
   ],
   "source": [
    "import pandas as pd\n",
    "import numpy as np\n",
    "import glob\n",
    "\n",
    "EggNOGMapper = pd.read_csv('../Data/input/MM_u6x7q5tb.emapper.annotations.tsv', delimiter = \"\\t\", comment = \"#\", header = None)\n",
    "EggNOGMapper.columns = [\"query\",\"seed_ortholog\",\"evalue\",\"score\",\"eggNOG_OGs\",\"max_annot_lvl\",\"COG_category\",\"Description\",\"Preferred_name\",\"GOs\",\"EC\",\"KEGG_ko\",\"KEGG_Pathway\",\"KEGG_Module\",\"KEGG_Reaction\",\"KEGG_rclass\",\"BRITE\",\"KEGG_TC\",\"CAZy\",\"BiGG_Reaction\",\"PFAMs\"]\n",
    "\n",
    "EggNOGMapper[\"OF_OGs\"] = EggNOGMapper.loc[:,\"query\"].str.split(\".\", n=1, expand = True)[0]\n",
    "EggNOGMapper[\"eggNOG_OGs\"] = EggNOGMapper.loc[:,\"eggNOG_OGs\"].str.split(\"@\", n=1, expand = True)[0]\n",
    "EggNOGMapper = EggNOGMapper.loc[:,[\"OF_OGs\",\"eggNOG_OGs\"]]\n",
    "\n",
    "EggNOGMapper.to_csv(\"Data/input/OGIndexDF.tsv\"), sep=\"\\t\", index = False)"
   ]
  },
  {
   "cell_type": "code",
   "execution_count": 18,
   "metadata": {},
   "outputs": [
    {
     "ename": "FileNotFoundError",
     "evalue": "[Errno 2] No such file or directory: \"['../Data/input/MM_u6x7q5tb.emapper.annotations.tsv']\"",
     "output_type": "error",
     "traceback": [
      "\u001b[0;31m---------------------------------------------------------------------------\u001b[0m",
      "\u001b[0;31mFileNotFoundError\u001b[0m                         Traceback (most recent call last)",
      "Cell \u001b[0;32mIn[18], line 3\u001b[0m\n\u001b[1;32m      1\u001b[0m \u001b[38;5;66;03m#for file in str(glob.glob('../Data/input/*.emapper.annotations.tsv')):\u001b[39;00m\n\u001b[1;32m      2\u001b[0m \u001b[38;5;66;03m#    print(str(glob.glob('../Data/input/*.emapper.annotations.tsv'))#\u001b[39;00m\n\u001b[0;32m----> 3\u001b[0m \u001b[43mpd\u001b[49m\u001b[38;5;241;43m.\u001b[39;49m\u001b[43mread_csv\u001b[49m\u001b[43m(\u001b[49m\u001b[38;5;28;43mstr\u001b[39;49m\u001b[43m(\u001b[49m\u001b[43mglob\u001b[49m\u001b[38;5;241;43m.\u001b[39;49m\u001b[43mglob\u001b[49m\u001b[43m(\u001b[49m\u001b[38;5;124;43m'\u001b[39;49m\u001b[38;5;124;43m../Data/input/*.emapper.annotations.tsv\u001b[39;49m\u001b[38;5;124;43m'\u001b[39;49m\u001b[43m)\u001b[49m\u001b[43m)\u001b[49m\u001b[43m)\u001b[49m\n",
      "File \u001b[0;32m~/Applications/mambaforge/envs/snakemake/lib/python3.9/site-packages/pandas/util/_decorators.py:211\u001b[0m, in \u001b[0;36mdeprecate_kwarg.<locals>._deprecate_kwarg.<locals>.wrapper\u001b[0;34m(*args, **kwargs)\u001b[0m\n\u001b[1;32m    209\u001b[0m     \u001b[38;5;28;01melse\u001b[39;00m:\n\u001b[1;32m    210\u001b[0m         kwargs[new_arg_name] \u001b[38;5;241m=\u001b[39m new_arg_value\n\u001b[0;32m--> 211\u001b[0m \u001b[38;5;28;01mreturn\u001b[39;00m \u001b[43mfunc\u001b[49m\u001b[43m(\u001b[49m\u001b[38;5;241;43m*\u001b[39;49m\u001b[43margs\u001b[49m\u001b[43m,\u001b[49m\u001b[43m \u001b[49m\u001b[38;5;241;43m*\u001b[39;49m\u001b[38;5;241;43m*\u001b[39;49m\u001b[43mkwargs\u001b[49m\u001b[43m)\u001b[49m\n",
      "File \u001b[0;32m~/Applications/mambaforge/envs/snakemake/lib/python3.9/site-packages/pandas/util/_decorators.py:331\u001b[0m, in \u001b[0;36mdeprecate_nonkeyword_arguments.<locals>.decorate.<locals>.wrapper\u001b[0;34m(*args, **kwargs)\u001b[0m\n\u001b[1;32m    325\u001b[0m \u001b[38;5;28;01mif\u001b[39;00m \u001b[38;5;28mlen\u001b[39m(args) \u001b[38;5;241m>\u001b[39m num_allow_args:\n\u001b[1;32m    326\u001b[0m     warnings\u001b[38;5;241m.\u001b[39mwarn(\n\u001b[1;32m    327\u001b[0m         msg\u001b[38;5;241m.\u001b[39mformat(arguments\u001b[38;5;241m=\u001b[39m_format_argument_list(allow_args)),\n\u001b[1;32m    328\u001b[0m         \u001b[38;5;167;01mFutureWarning\u001b[39;00m,\n\u001b[1;32m    329\u001b[0m         stacklevel\u001b[38;5;241m=\u001b[39mfind_stack_level(),\n\u001b[1;32m    330\u001b[0m     )\n\u001b[0;32m--> 331\u001b[0m \u001b[38;5;28;01mreturn\u001b[39;00m \u001b[43mfunc\u001b[49m\u001b[43m(\u001b[49m\u001b[38;5;241;43m*\u001b[39;49m\u001b[43margs\u001b[49m\u001b[43m,\u001b[49m\u001b[43m \u001b[49m\u001b[38;5;241;43m*\u001b[39;49m\u001b[38;5;241;43m*\u001b[39;49m\u001b[43mkwargs\u001b[49m\u001b[43m)\u001b[49m\n",
      "File \u001b[0;32m~/Applications/mambaforge/envs/snakemake/lib/python3.9/site-packages/pandas/io/parsers/readers.py:950\u001b[0m, in \u001b[0;36mread_csv\u001b[0;34m(filepath_or_buffer, sep, delimiter, header, names, index_col, usecols, squeeze, prefix, mangle_dupe_cols, dtype, engine, converters, true_values, false_values, skipinitialspace, skiprows, skipfooter, nrows, na_values, keep_default_na, na_filter, verbose, skip_blank_lines, parse_dates, infer_datetime_format, keep_date_col, date_parser, dayfirst, cache_dates, iterator, chunksize, compression, thousands, decimal, lineterminator, quotechar, quoting, doublequote, escapechar, comment, encoding, encoding_errors, dialect, error_bad_lines, warn_bad_lines, on_bad_lines, delim_whitespace, low_memory, memory_map, float_precision, storage_options)\u001b[0m\n\u001b[1;32m    935\u001b[0m kwds_defaults \u001b[38;5;241m=\u001b[39m _refine_defaults_read(\n\u001b[1;32m    936\u001b[0m     dialect,\n\u001b[1;32m    937\u001b[0m     delimiter,\n\u001b[0;32m   (...)\u001b[0m\n\u001b[1;32m    946\u001b[0m     defaults\u001b[38;5;241m=\u001b[39m{\u001b[38;5;124m\"\u001b[39m\u001b[38;5;124mdelimiter\u001b[39m\u001b[38;5;124m\"\u001b[39m: \u001b[38;5;124m\"\u001b[39m\u001b[38;5;124m,\u001b[39m\u001b[38;5;124m\"\u001b[39m},\n\u001b[1;32m    947\u001b[0m )\n\u001b[1;32m    948\u001b[0m kwds\u001b[38;5;241m.\u001b[39mupdate(kwds_defaults)\n\u001b[0;32m--> 950\u001b[0m \u001b[38;5;28;01mreturn\u001b[39;00m \u001b[43m_read\u001b[49m\u001b[43m(\u001b[49m\u001b[43mfilepath_or_buffer\u001b[49m\u001b[43m,\u001b[49m\u001b[43m \u001b[49m\u001b[43mkwds\u001b[49m\u001b[43m)\u001b[49m\n",
      "File \u001b[0;32m~/Applications/mambaforge/envs/snakemake/lib/python3.9/site-packages/pandas/io/parsers/readers.py:605\u001b[0m, in \u001b[0;36m_read\u001b[0;34m(filepath_or_buffer, kwds)\u001b[0m\n\u001b[1;32m    602\u001b[0m _validate_names(kwds\u001b[38;5;241m.\u001b[39mget(\u001b[38;5;124m\"\u001b[39m\u001b[38;5;124mnames\u001b[39m\u001b[38;5;124m\"\u001b[39m, \u001b[38;5;28;01mNone\u001b[39;00m))\n\u001b[1;32m    604\u001b[0m \u001b[38;5;66;03m# Create the parser.\u001b[39;00m\n\u001b[0;32m--> 605\u001b[0m parser \u001b[38;5;241m=\u001b[39m \u001b[43mTextFileReader\u001b[49m\u001b[43m(\u001b[49m\u001b[43mfilepath_or_buffer\u001b[49m\u001b[43m,\u001b[49m\u001b[43m \u001b[49m\u001b[38;5;241;43m*\u001b[39;49m\u001b[38;5;241;43m*\u001b[39;49m\u001b[43mkwds\u001b[49m\u001b[43m)\u001b[49m\n\u001b[1;32m    607\u001b[0m \u001b[38;5;28;01mif\u001b[39;00m chunksize \u001b[38;5;129;01mor\u001b[39;00m iterator:\n\u001b[1;32m    608\u001b[0m     \u001b[38;5;28;01mreturn\u001b[39;00m parser\n",
      "File \u001b[0;32m~/Applications/mambaforge/envs/snakemake/lib/python3.9/site-packages/pandas/io/parsers/readers.py:1442\u001b[0m, in \u001b[0;36mTextFileReader.__init__\u001b[0;34m(self, f, engine, **kwds)\u001b[0m\n\u001b[1;32m   1439\u001b[0m     \u001b[38;5;28mself\u001b[39m\u001b[38;5;241m.\u001b[39moptions[\u001b[38;5;124m\"\u001b[39m\u001b[38;5;124mhas_index_names\u001b[39m\u001b[38;5;124m\"\u001b[39m] \u001b[38;5;241m=\u001b[39m kwds[\u001b[38;5;124m\"\u001b[39m\u001b[38;5;124mhas_index_names\u001b[39m\u001b[38;5;124m\"\u001b[39m]\n\u001b[1;32m   1441\u001b[0m \u001b[38;5;28mself\u001b[39m\u001b[38;5;241m.\u001b[39mhandles: IOHandles \u001b[38;5;241m|\u001b[39m \u001b[38;5;28;01mNone\u001b[39;00m \u001b[38;5;241m=\u001b[39m \u001b[38;5;28;01mNone\u001b[39;00m\n\u001b[0;32m-> 1442\u001b[0m \u001b[38;5;28mself\u001b[39m\u001b[38;5;241m.\u001b[39m_engine \u001b[38;5;241m=\u001b[39m \u001b[38;5;28;43mself\u001b[39;49m\u001b[38;5;241;43m.\u001b[39;49m\u001b[43m_make_engine\u001b[49m\u001b[43m(\u001b[49m\u001b[43mf\u001b[49m\u001b[43m,\u001b[49m\u001b[43m \u001b[49m\u001b[38;5;28;43mself\u001b[39;49m\u001b[38;5;241;43m.\u001b[39;49m\u001b[43mengine\u001b[49m\u001b[43m)\u001b[49m\n",
      "File \u001b[0;32m~/Applications/mambaforge/envs/snakemake/lib/python3.9/site-packages/pandas/io/parsers/readers.py:1735\u001b[0m, in \u001b[0;36mTextFileReader._make_engine\u001b[0;34m(self, f, engine)\u001b[0m\n\u001b[1;32m   1733\u001b[0m     \u001b[38;5;28;01mif\u001b[39;00m \u001b[38;5;124m\"\u001b[39m\u001b[38;5;124mb\u001b[39m\u001b[38;5;124m\"\u001b[39m \u001b[38;5;129;01mnot\u001b[39;00m \u001b[38;5;129;01min\u001b[39;00m mode:\n\u001b[1;32m   1734\u001b[0m         mode \u001b[38;5;241m+\u001b[39m\u001b[38;5;241m=\u001b[39m \u001b[38;5;124m\"\u001b[39m\u001b[38;5;124mb\u001b[39m\u001b[38;5;124m\"\u001b[39m\n\u001b[0;32m-> 1735\u001b[0m \u001b[38;5;28mself\u001b[39m\u001b[38;5;241m.\u001b[39mhandles \u001b[38;5;241m=\u001b[39m \u001b[43mget_handle\u001b[49m\u001b[43m(\u001b[49m\n\u001b[1;32m   1736\u001b[0m \u001b[43m    \u001b[49m\u001b[43mf\u001b[49m\u001b[43m,\u001b[49m\n\u001b[1;32m   1737\u001b[0m \u001b[43m    \u001b[49m\u001b[43mmode\u001b[49m\u001b[43m,\u001b[49m\n\u001b[1;32m   1738\u001b[0m \u001b[43m    \u001b[49m\u001b[43mencoding\u001b[49m\u001b[38;5;241;43m=\u001b[39;49m\u001b[38;5;28;43mself\u001b[39;49m\u001b[38;5;241;43m.\u001b[39;49m\u001b[43moptions\u001b[49m\u001b[38;5;241;43m.\u001b[39;49m\u001b[43mget\u001b[49m\u001b[43m(\u001b[49m\u001b[38;5;124;43m\"\u001b[39;49m\u001b[38;5;124;43mencoding\u001b[39;49m\u001b[38;5;124;43m\"\u001b[39;49m\u001b[43m,\u001b[49m\u001b[43m \u001b[49m\u001b[38;5;28;43;01mNone\u001b[39;49;00m\u001b[43m)\u001b[49m\u001b[43m,\u001b[49m\n\u001b[1;32m   1739\u001b[0m \u001b[43m    \u001b[49m\u001b[43mcompression\u001b[49m\u001b[38;5;241;43m=\u001b[39;49m\u001b[38;5;28;43mself\u001b[39;49m\u001b[38;5;241;43m.\u001b[39;49m\u001b[43moptions\u001b[49m\u001b[38;5;241;43m.\u001b[39;49m\u001b[43mget\u001b[49m\u001b[43m(\u001b[49m\u001b[38;5;124;43m\"\u001b[39;49m\u001b[38;5;124;43mcompression\u001b[39;49m\u001b[38;5;124;43m\"\u001b[39;49m\u001b[43m,\u001b[49m\u001b[43m \u001b[49m\u001b[38;5;28;43;01mNone\u001b[39;49;00m\u001b[43m)\u001b[49m\u001b[43m,\u001b[49m\n\u001b[1;32m   1740\u001b[0m \u001b[43m    \u001b[49m\u001b[43mmemory_map\u001b[49m\u001b[38;5;241;43m=\u001b[39;49m\u001b[38;5;28;43mself\u001b[39;49m\u001b[38;5;241;43m.\u001b[39;49m\u001b[43moptions\u001b[49m\u001b[38;5;241;43m.\u001b[39;49m\u001b[43mget\u001b[49m\u001b[43m(\u001b[49m\u001b[38;5;124;43m\"\u001b[39;49m\u001b[38;5;124;43mmemory_map\u001b[39;49m\u001b[38;5;124;43m\"\u001b[39;49m\u001b[43m,\u001b[49m\u001b[43m \u001b[49m\u001b[38;5;28;43;01mFalse\u001b[39;49;00m\u001b[43m)\u001b[49m\u001b[43m,\u001b[49m\n\u001b[1;32m   1741\u001b[0m \u001b[43m    \u001b[49m\u001b[43mis_text\u001b[49m\u001b[38;5;241;43m=\u001b[39;49m\u001b[43mis_text\u001b[49m\u001b[43m,\u001b[49m\n\u001b[1;32m   1742\u001b[0m \u001b[43m    \u001b[49m\u001b[43merrors\u001b[49m\u001b[38;5;241;43m=\u001b[39;49m\u001b[38;5;28;43mself\u001b[39;49m\u001b[38;5;241;43m.\u001b[39;49m\u001b[43moptions\u001b[49m\u001b[38;5;241;43m.\u001b[39;49m\u001b[43mget\u001b[49m\u001b[43m(\u001b[49m\u001b[38;5;124;43m\"\u001b[39;49m\u001b[38;5;124;43mencoding_errors\u001b[39;49m\u001b[38;5;124;43m\"\u001b[39;49m\u001b[43m,\u001b[49m\u001b[43m \u001b[49m\u001b[38;5;124;43m\"\u001b[39;49m\u001b[38;5;124;43mstrict\u001b[39;49m\u001b[38;5;124;43m\"\u001b[39;49m\u001b[43m)\u001b[49m\u001b[43m,\u001b[49m\n\u001b[1;32m   1743\u001b[0m \u001b[43m    \u001b[49m\u001b[43mstorage_options\u001b[49m\u001b[38;5;241;43m=\u001b[39;49m\u001b[38;5;28;43mself\u001b[39;49m\u001b[38;5;241;43m.\u001b[39;49m\u001b[43moptions\u001b[49m\u001b[38;5;241;43m.\u001b[39;49m\u001b[43mget\u001b[49m\u001b[43m(\u001b[49m\u001b[38;5;124;43m\"\u001b[39;49m\u001b[38;5;124;43mstorage_options\u001b[39;49m\u001b[38;5;124;43m\"\u001b[39;49m\u001b[43m,\u001b[49m\u001b[43m \u001b[49m\u001b[38;5;28;43;01mNone\u001b[39;49;00m\u001b[43m)\u001b[49m\u001b[43m,\u001b[49m\n\u001b[1;32m   1744\u001b[0m \u001b[43m\u001b[49m\u001b[43m)\u001b[49m\n\u001b[1;32m   1745\u001b[0m \u001b[38;5;28;01massert\u001b[39;00m \u001b[38;5;28mself\u001b[39m\u001b[38;5;241m.\u001b[39mhandles \u001b[38;5;129;01mis\u001b[39;00m \u001b[38;5;129;01mnot\u001b[39;00m \u001b[38;5;28;01mNone\u001b[39;00m\n\u001b[1;32m   1746\u001b[0m f \u001b[38;5;241m=\u001b[39m \u001b[38;5;28mself\u001b[39m\u001b[38;5;241m.\u001b[39mhandles\u001b[38;5;241m.\u001b[39mhandle\n",
      "File \u001b[0;32m~/Applications/mambaforge/envs/snakemake/lib/python3.9/site-packages/pandas/io/common.py:856\u001b[0m, in \u001b[0;36mget_handle\u001b[0;34m(path_or_buf, mode, encoding, compression, memory_map, is_text, errors, storage_options)\u001b[0m\n\u001b[1;32m    851\u001b[0m \u001b[38;5;28;01melif\u001b[39;00m \u001b[38;5;28misinstance\u001b[39m(handle, \u001b[38;5;28mstr\u001b[39m):\n\u001b[1;32m    852\u001b[0m     \u001b[38;5;66;03m# Check whether the filename is to be opened in binary mode.\u001b[39;00m\n\u001b[1;32m    853\u001b[0m     \u001b[38;5;66;03m# Binary mode does not support 'encoding' and 'newline'.\u001b[39;00m\n\u001b[1;32m    854\u001b[0m     \u001b[38;5;28;01mif\u001b[39;00m ioargs\u001b[38;5;241m.\u001b[39mencoding \u001b[38;5;129;01mand\u001b[39;00m \u001b[38;5;124m\"\u001b[39m\u001b[38;5;124mb\u001b[39m\u001b[38;5;124m\"\u001b[39m \u001b[38;5;129;01mnot\u001b[39;00m \u001b[38;5;129;01min\u001b[39;00m ioargs\u001b[38;5;241m.\u001b[39mmode:\n\u001b[1;32m    855\u001b[0m         \u001b[38;5;66;03m# Encoding\u001b[39;00m\n\u001b[0;32m--> 856\u001b[0m         handle \u001b[38;5;241m=\u001b[39m \u001b[38;5;28;43mopen\u001b[39;49m\u001b[43m(\u001b[49m\n\u001b[1;32m    857\u001b[0m \u001b[43m            \u001b[49m\u001b[43mhandle\u001b[49m\u001b[43m,\u001b[49m\n\u001b[1;32m    858\u001b[0m \u001b[43m            \u001b[49m\u001b[43mioargs\u001b[49m\u001b[38;5;241;43m.\u001b[39;49m\u001b[43mmode\u001b[49m\u001b[43m,\u001b[49m\n\u001b[1;32m    859\u001b[0m \u001b[43m            \u001b[49m\u001b[43mencoding\u001b[49m\u001b[38;5;241;43m=\u001b[39;49m\u001b[43mioargs\u001b[49m\u001b[38;5;241;43m.\u001b[39;49m\u001b[43mencoding\u001b[49m\u001b[43m,\u001b[49m\n\u001b[1;32m    860\u001b[0m \u001b[43m            \u001b[49m\u001b[43merrors\u001b[49m\u001b[38;5;241;43m=\u001b[39;49m\u001b[43merrors\u001b[49m\u001b[43m,\u001b[49m\n\u001b[1;32m    861\u001b[0m \u001b[43m            \u001b[49m\u001b[43mnewline\u001b[49m\u001b[38;5;241;43m=\u001b[39;49m\u001b[38;5;124;43m\"\u001b[39;49m\u001b[38;5;124;43m\"\u001b[39;49m\u001b[43m,\u001b[49m\n\u001b[1;32m    862\u001b[0m \u001b[43m        \u001b[49m\u001b[43m)\u001b[49m\n\u001b[1;32m    863\u001b[0m     \u001b[38;5;28;01melse\u001b[39;00m:\n\u001b[1;32m    864\u001b[0m         \u001b[38;5;66;03m# Binary mode\u001b[39;00m\n\u001b[1;32m    865\u001b[0m         handle \u001b[38;5;241m=\u001b[39m \u001b[38;5;28mopen\u001b[39m(handle, ioargs\u001b[38;5;241m.\u001b[39mmode)\n",
      "\u001b[0;31mFileNotFoundError\u001b[0m: [Errno 2] No such file or directory: \"['../Data/input/MM_u6x7q5tb.emapper.annotations.tsv']\""
     ]
    }
   ],
   "source": [
    "\n",
    "#for file in str(glob.glob('../Data/input/*.emapper.annotations.tsv')):\n",
    "#    print(str(glob.glob('../Data/input/*.emapper.annotations.tsv'))#\n",
    "pd.read_csv(str(glob.glob('../Data/input/*.emapper.annotations.tsv')))"
   ]
  },
  {
   "cell_type": "code",
   "execution_count": null,
   "metadata": {},
   "outputs": [],
   "source": []
  },
  {
   "cell_type": "code",
   "execution_count": null,
   "metadata": {},
   "outputs": [],
   "source": []
  },
  {
   "cell_type": "markdown",
   "metadata": {},
   "source": [
    "# Get the Uniprot Proteome ID of the organism of interest and the NCBI taxonomic ID of the parent clade to compare it to"
   ]
  },
  {
   "cell_type": "code",
   "execution_count": 11,
   "metadata": {},
   "outputs": [
    {
     "name": "stdout",
     "output_type": "stream",
     "text": [
      "Please enter the uniprot proteome ID of the organism of interest here:\n",
      "UP000321408\n"
     ]
    }
   ],
   "source": [
    "if os.path.isfile(join(folder_path, \"Data/input/UPID_OOI.txt\")):\n",
    "    UPID_OOI = open(join(folder_path, \"Data/input/UPID_OOI.txt\")).read().replace('\\n', '')\n",
    "    print(\"UPID: \", UPID_OOI)\n",
    "else: \n",
    "    text_file = open(join(folder_path, \"Data/input/UPID_OOI.txt\"), \"w\")\n",
    "    print(\"Please enter the uniprot proteome ID of the organism of interest here:\")\n",
    "    UPID_OOI = str(input())\n",
    "    n = text_file.write(UPID_OOI)\n",
    "    text_file.close()"
   ]
  },
  {
   "cell_type": "code",
   "execution_count": 12,
   "metadata": {},
   "outputs": [
    {
     "name": "stdout",
     "output_type": "stream",
     "text": [
      "Please enter the taxonomic ID of the parent clade of interest here:\n",
      "1935183\n"
     ]
    }
   ],
   "source": [
    "if os.path.isfile(join(folder_path, \"Data/input/TaxonID.txt\")):\n",
    "    TaxID = open(join(folder_path, \"Data/input/TaxonID.txt\")).read().replace('\\n', '')\n",
    "    print(\"NCBI Taxon ID: \", TaxID)\n",
    "else: \n",
    "    #UPID_OOI=str(input()),\n",
    "    text_file = open(join(folder_path, \"Data/input/TaxonID.txt\"), \"w\")\n",
    "    print(\"Please enter the taxonomic ID of the parent clade of interest here:\")\n",
    "    TaxID = str(input())\n",
    "    n = text_file.write(TaxID)\n",
    "    text_file.close()\n",
    "    #UPID_OOI.to_csv(join(folder_path, \"UPID_OOI.txt\"), header=None, index=None, sep=' ', mode='a')#np.savetxt(join(folder_path, \"UPID_OOI.txt\"), UPID_OOI, fmt='%d')"
   ]
  },
  {
   "cell_type": "code",
   "execution_count": 5,
   "metadata": {},
   "outputs": [
    {
     "data": {
      "text/html": [
       "<div>\n",
       "<style scoped>\n",
       "    .dataframe tbody tr th:only-of-type {\n",
       "        vertical-align: middle;\n",
       "    }\n",
       "\n",
       "    .dataframe tbody tr th {\n",
       "        vertical-align: top;\n",
       "    }\n",
       "\n",
       "    .dataframe thead th {\n",
       "        text-align: right;\n",
       "    }\n",
       "</style>\n",
       "<table border=\"1\" class=\"dataframe\">\n",
       "  <thead>\n",
       "    <tr style=\"text-align: right;\">\n",
       "      <th></th>\n",
       "      <th>Organism</th>\n",
       "      <th>Organism Id</th>\n",
       "      <th>Protein count</th>\n",
       "      <th>Genome assembly ID</th>\n",
       "    </tr>\n",
       "    <tr>\n",
       "      <th>Proteome Id</th>\n",
       "      <th></th>\n",
       "      <th></th>\n",
       "      <th></th>\n",
       "      <th></th>\n",
       "    </tr>\n",
       "  </thead>\n",
       "  <tbody>\n",
       "    <tr>\n",
       "      <th>UP000321408</th>\n",
       "      <td>Candidatus Prometheoarchaeum syntrophicum</td>\n",
       "      <td>2594042</td>\n",
       "      <td>3933</td>\n",
       "      <td>GCA_008000775.1</td>\n",
       "    </tr>\n",
       "    <tr>\n",
       "      <th>UP000070043</th>\n",
       "      <td>Candidatus Thorarchaeota archaeon SMTZ1-83</td>\n",
       "      <td>1706445</td>\n",
       "      <td>3029</td>\n",
       "      <td>GCA_001563325.1</td>\n",
       "    </tr>\n",
       "  </tbody>\n",
       "</table>\n",
       "</div>"
      ],
      "text/plain": [
       "                                               Organism  Organism Id  \\\n",
       "Proteome Id                                                            \n",
       "UP000321408   Candidatus Prometheoarchaeum syntrophicum      2594042   \n",
       "UP000070043  Candidatus Thorarchaeota archaeon SMTZ1-83      1706445   \n",
       "\n",
       "             Protein count Genome assembly ID  \n",
       "Proteome Id                                    \n",
       "UP000321408           3933    GCA_008000775.1  \n",
       "UP000070043           3029    GCA_001563325.1  "
      ]
     },
     "execution_count": 5,
     "metadata": {},
     "output_type": "execute_result"
    }
   ],
   "source": [
    "SpIndex = pd.read_csv(f\"https://rest.uniprot.org/proteomes/search?query=(taxonomy_id:{TaxID})&fields=upid%2Corganism%2Corganism_id%2Cprotein_count%2Cgenome_assembly&&format=tsv&size=500\", sep=\"\\t\", index_col = 'Proteome Id')[0:2]\n",
    "SpIndex"
   ]
  },
  {
   "cell_type": "markdown",
   "metadata": {},
   "source": [
    "# Find the assembly statistics for each entry\n",
    "This takes a bit of time"
   ]
  },
  {
   "cell_type": "code",
   "execution_count": 6,
   "metadata": {},
   "outputs": [
    {
     "name": "stdout",
     "output_type": "stream",
     "text": [
      "UP000321408 GCA_008000775.1 Progress 50.0%\n",
      "UP000070043 GCA_001563325.1 Progress 100.0%\n",
      "\t Assembly is 3263991 bp long and consists of 266 Contigs\n"
     ]
    },
    {
     "data": {
      "text/html": [
       "<div>\n",
       "<style scoped>\n",
       "    .dataframe tbody tr th:only-of-type {\n",
       "        vertical-align: middle;\n",
       "    }\n",
       "\n",
       "    .dataframe tbody tr th {\n",
       "        vertical-align: top;\n",
       "    }\n",
       "\n",
       "    .dataframe thead th {\n",
       "        text-align: right;\n",
       "    }\n",
       "</style>\n",
       "<table border=\"1\" class=\"dataframe\">\n",
       "  <thead>\n",
       "    <tr style=\"text-align: right;\">\n",
       "      <th></th>\n",
       "      <th>Organism</th>\n",
       "      <th>Organism Id</th>\n",
       "      <th>Protein count</th>\n",
       "      <th>Assembly</th>\n",
       "      <th>AssemblyFullName</th>\n",
       "      <th>SeqLen</th>\n",
       "      <th>Contigs</th>\n",
       "    </tr>\n",
       "    <tr>\n",
       "      <th>Proteome Id</th>\n",
       "      <th></th>\n",
       "      <th></th>\n",
       "      <th></th>\n",
       "      <th></th>\n",
       "      <th></th>\n",
       "      <th></th>\n",
       "      <th></th>\n",
       "    </tr>\n",
       "  </thead>\n",
       "  <tbody>\n",
       "    <tr>\n",
       "      <th>UP000321408</th>\n",
       "      <td>Candidatus Prometheoarchaeum syntrophicum</td>\n",
       "      <td>2594042</td>\n",
       "      <td>3933</td>\n",
       "      <td>GCA_008000775.1</td>\n",
       "      <td>GCA_008000775.1_ASM800077v1</td>\n",
       "      <td>4427796</td>\n",
       "      <td>1</td>\n",
       "    </tr>\n",
       "    <tr>\n",
       "      <th>UP000070043</th>\n",
       "      <td>Candidatus Thorarchaeota archaeon SMTZ1-83</td>\n",
       "      <td>1706445</td>\n",
       "      <td>3029</td>\n",
       "      <td>GCA_001563325.1</td>\n",
       "      <td>GCA_001563325.1_ASM156332v1</td>\n",
       "      <td>3263991</td>\n",
       "      <td>266</td>\n",
       "    </tr>\n",
       "  </tbody>\n",
       "</table>\n",
       "</div>"
      ],
      "text/plain": [
       "                                               Organism  Organism Id  \\\n",
       "Proteome Id                                                            \n",
       "UP000321408   Candidatus Prometheoarchaeum syntrophicum      2594042   \n",
       "UP000070043  Candidatus Thorarchaeota archaeon SMTZ1-83      1706445   \n",
       "\n",
       "             Protein count         Assembly             AssemblyFullName  \\\n",
       "Proteome Id                                                                \n",
       "UP000321408           3933  GCA_008000775.1  GCA_008000775.1_ASM800077v1   \n",
       "UP000070043           3029  GCA_001563325.1  GCA_001563325.1_ASM156332v1   \n",
       "\n",
       "              SeqLen  Contigs  \n",
       "Proteome Id                    \n",
       "UP000321408  4427796        1  \n",
       "UP000070043  3263991      266  "
      ]
     },
     "execution_count": 6,
     "metadata": {},
     "output_type": "execute_result"
    }
   ],
   "source": [
    "SpIndex.rename(columns={'Genome assembly ID':'Assembly'}, inplace=True)\n",
    "SpIndex[\"AssemblyFullName\"] = \"NaN\"\n",
    "SpIndex[\"SeqLen\"] = \"NaN\"\n",
    "SpIndex[\"Contigs\"] = \"NaN\"\n",
    "i = 0\n",
    "\n",
    "for PID in SpIndex.index:\n",
    "    i = i + 1\n",
    "    try:\n",
    "        ftp = ftplib.FTP('ftp.ncbi.nlm.nih.gov', 'anonymous', 'password')\n",
    "        ftp.cwd(f'genomes/all/GCA/{SpIndex.loc[PID,\"Assembly\"][4:7]}/{SpIndex.loc[PID,\"Assembly\"][7:10]}/{SpIndex.loc[PID,\"Assembly\"][10:13]}/')\n",
    "        if len(ftp.nlst()) == 1:\n",
    "            print(PID,SpIndex.loc[PID,\"Assembly\"], f\"Progress {round(i/len(SpIndex.index)*100,1)}%\")\n",
    "            SpIndex.loc[PID,\"AssemblyFullName\"] = ftp.nlst()[0]\n",
    "            url = f'https://ftp.ncbi.nlm.nih.gov/genomes/all/GCA/{SpIndex.loc[PID,\"Assembly\"][4:7]}/{SpIndex.loc[PID,\"Assembly\"][7:10]}/{SpIndex.loc[PID,\"Assembly\"][10:13]}/{SpIndex.loc[PID,\"AssemblyFullName\"]}/{SpIndex.loc[PID,\"AssemblyFullName\"]}_assembly_stats.txt'\n",
    "            stats = pd.read_csv(url, comment = \"#\", sep = \"\\t\", header = None)\n",
    "            stats = stats[stats.iloc[:,0] == \"all\"].set_index(4).iloc[:,-1]\n",
    "            SpIndex.loc[PID,\"SeqLen\"] = stats[\"total-length\"]\n",
    "            if stats[\"contig-count\"] > 0:\n",
    "                SpIndex.loc[PID,\"Contigs\"] = stats[\"contig-count\"]\n",
    "        else:\n",
    "            print(\"More than one assembly\")\n",
    "        print(f'\\t Assembly is {SpIndex.loc[PID,\"SeqLen\"]} bp long and consists of {SpIndex.loc[PID,\"Contigs\"]} Contigs')\n",
    "        ftp.close()\n",
    "    except:\n",
    "        pass\n",
    "\n",
    "SpIndex[[\"Contigs\",\"SeqLen\"]] = SpIndex[[\"Contigs\",\"SeqLen\"]].replace(\"NaN\",1).astype(int)\n",
    "\n",
    "SpIndex"
   ]
  },
  {
   "cell_type": "markdown",
   "metadata": {},
   "source": [
    "# Plot the assembly quality"
   ]
  },
  {
   "cell_type": "code",
   "execution_count": 7,
   "metadata": {},
   "outputs": [
    {
     "data": {
      "image/png": "[encoded data removed]",
      "text/plain": [
       "<Figure size 1000x500 with 1 Axes>"
      ]
     },
     "metadata": {},
     "output_type": "display_data"
    }
   ],
   "source": [
    "plt.figure(figsize=(10, 5))\n",
    "plt.title(\"Assembly Quality Assesment\")\n",
    "plt.scatter(SpIndex[\"Contigs\"],SpIndex[\"SeqLen\"]/1000000)\n",
    "plt.hlines(1,0,1000, linewidth = 0.5)\n",
    "plt.vlines(300,0,10, linewidth = 0.5)\n",
    "plt.xlabel(r'Contig count')\n",
    "plt.ylabel(r'Total sequence length ($10^6$ bp)')\n",
    "plt.axis([0, 550, 0, 5.5])\n",
    "\n",
    "plt.savefig(join(folder_path,'Data/output/AssemblyQC.png'))\n",
    "\n",
    "plt.show()"
   ]
  },
  {
   "cell_type": "markdown",
   "metadata": {},
   "source": [
    "# Filter for assembly quality and save Uniprot IDs to txt file"
   ]
  },
  {
   "cell_type": "code",
   "execution_count": 8,
   "metadata": {},
   "outputs": [
    {
     "name": "stdout",
     "output_type": "stream",
     "text": [
      "Index(['UP000321408', 'UP000070043'], dtype='object', name='Proteome Id')\n"
     ]
    }
   ],
   "source": [
    "SpIndex_CutOff = SpIndex[SpIndex[\"SeqLen\"] > 1000000]\n",
    "SpIndex_CutOff = SpIndex_CutOff[SpIndex_CutOff[\"Contigs\"] < 300]\n",
    "\n",
    "SpIndex_CutOff.to_csv(join(folder_path, \"Data/input/SpeciesIndexDF.tsv\"), sep=\"\\t\", index = True)\n",
    "SpIndex_CutOff.reset_index()[\"Proteome Id\"].to_csv(join(folder_path,'Data/input/UPIDs.txt'), sep='\\n', index=False, header=False)\n",
    "\n",
    "print(SpIndex_CutOff.index)"
   ]
  }
 ],
 "metadata": {
  "kernelspec": {
   "display_name": "snakemake",
   "language": "python",
   "name": "snakemake"
  },
  "language_info": {
   "codemirror_mode": {
    "name": "ipython",
    "version": 3
   },
   "file_extension": ".py",
   "mimetype": "text/x-python",
   "name": "python",
   "nbconvert_exporter": "python",
   "pygments_lexer": "ipython3",
   "version": "3.9.13"
  }
 },
 "nbformat": 4,
 "nbformat_minor": 5
}
