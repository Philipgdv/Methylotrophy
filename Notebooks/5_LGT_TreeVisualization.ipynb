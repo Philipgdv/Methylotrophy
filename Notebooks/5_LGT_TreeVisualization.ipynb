{
 "cells": [
  {
   "cell_type": "code",
   "execution_count": 1,
   "metadata": {},
   "outputs": [],
   "source": [
    "from ete3 import PhyloTree, NCBITaxa\n",
    "import numpy as np\n",
    "import pandas as pd\n",
    "\n",
    "ncbi = NCBITaxa()"
   ]
  },
  {
   "cell_type": "code",
   "execution_count": 2,
   "metadata": {},
   "outputs": [],
   "source": [
    "from ete3 import PhyloTree, Tree, NCBITaxa, TreeStyle\n",
    "import numpy as np\n",
    "import pandas as pd\n",
    "ncbi = NCBITaxa()"
   ]
  },
  {
   "cell_type": "markdown",
   "metadata": {},
   "source": [
    "# Load the tree"
   ]
  },
  {
   "cell_type": "code",
   "execution_count": 3,
   "metadata": {},
   "outputs": [],
   "source": [
    "COG_name = \"MtrH\""
   ]
  },
  {
   "cell_type": "code",
   "execution_count": 4,
   "metadata": {
    "scrolled": true
   },
   "outputs": [],
   "source": [
    "\n",
    "COG = PhyloTree(f\"../Data/LGTAnalysis/{COG_name}/{COG_name}.nwk\", format=1, sp_naming_function=lambda name: ncbi.get_lineage(name.split('.')[0])[3])\n",
    "R = COG.get_midpoint_outgroup()\n",
    "# and set it as tree outgroup\n",
    "COG.set_outgroup(R)\n",
    "COG.ladderize()\n",
    "\n",
    "ts = TreeStyle()\n",
    "ts.mode = \"c\"\n",
    "ts.show_leaf_name = False"
   ]
  },
  {
   "cell_type": "markdown",
   "metadata": {},
   "source": [
    "## Add taxonomic feature annotations \n",
    "To each of the leaves, add the taxonomic clade and kingdom of the species having the gene"
   ]
  },
  {
   "cell_type": "code",
   "execution_count": 5,
   "metadata": {},
   "outputs": [],
   "source": [
    "for lf in COG.iter_leaves():\n",
    "    lf.add_feature(\"kingdom\", ncbi.get_lineage(lf.name.split('.')[0])[2])\n",
    "    lf.add_feature(\"clade\", ncbi.get_lineage(lf.name.split('.')[0])[3])"
   ]
  },
  {
   "cell_type": "markdown",
   "metadata": {},
   "source": [
    "## Name all internal nodes"
   ]
  },
  {
   "cell_type": "code",
   "execution_count": 56,
   "metadata": {},
   "outputs": [],
   "source": [
    "counter = 0\n",
    "intnodes = []\n",
    "for node in COG.traverse():\n",
    "    if node.is_leaf()==False:\n",
    "        counter += 1\n",
    "        node.name = \"I\"+str(counter)\n",
    "        intnodes.append(node.name)"
   ]
  },
  {
   "cell_type": "code",
   "execution_count": 57,
   "metadata": {},
   "outputs": [
    {
     "data": {
      "text/html": [
       "<div>\n",
       "<style scoped>\n",
       "    .dataframe tbody tr th:only-of-type {\n",
       "        vertical-align: middle;\n",
       "    }\n",
       "\n",
       "    .dataframe tbody tr th {\n",
       "        vertical-align: top;\n",
       "    }\n",
       "\n",
       "    .dataframe thead th {\n",
       "        text-align: right;\n",
       "    }\n",
       "</style>\n",
       "<table border=\"1\" class=\"dataframe\">\n",
       "  <thead>\n",
       "    <tr style=\"text-align: right;\">\n",
       "      <th></th>\n",
       "      <th>Kingdom</th>\n",
       "      <th>Clade</th>\n",
       "    </tr>\n",
       "  </thead>\n",
       "  <tbody>\n",
       "    <tr>\n",
       "      <th>I69</th>\n",
       "      <td>2157</td>\n",
       "      <td>28890</td>\n",
       "    </tr>\n",
       "    <tr>\n",
       "      <th>I8</th>\n",
       "      <td>2157</td>\n",
       "      <td>1783275</td>\n",
       "    </tr>\n",
       "    <tr>\n",
       "      <th>I34</th>\n",
       "      <td>2157</td>\n",
       "      <td>28890</td>\n",
       "    </tr>\n",
       "    <tr>\n",
       "      <th>I55</th>\n",
       "      <td>2157</td>\n",
       "      <td>28890</td>\n",
       "    </tr>\n",
       "    <tr>\n",
       "      <th>I63</th>\n",
       "      <td>2157</td>\n",
       "      <td>28890</td>\n",
       "    </tr>\n",
       "    <tr>\n",
       "      <th>...</th>\n",
       "      <td>...</td>\n",
       "      <td>...</td>\n",
       "    </tr>\n",
       "    <tr>\n",
       "      <th>I66</th>\n",
       "      <td>2157</td>\n",
       "      <td>28890</td>\n",
       "    </tr>\n",
       "    <tr>\n",
       "      <th>I40</th>\n",
       "      <td>2</td>\n",
       "      <td>1783272</td>\n",
       "    </tr>\n",
       "    <tr>\n",
       "      <th>I18</th>\n",
       "      <td>2</td>\n",
       "      <td>200940</td>\n",
       "    </tr>\n",
       "    <tr>\n",
       "      <th>I78</th>\n",
       "      <td>2157</td>\n",
       "      <td>28890</td>\n",
       "    </tr>\n",
       "    <tr>\n",
       "      <th>I4</th>\n",
       "      <td>2157</td>\n",
       "      <td>28890</td>\n",
       "    </tr>\n",
       "  </tbody>\n",
       "</table>\n",
       "<p>78 rows × 2 columns</p>\n",
       "</div>"
      ],
      "text/plain": [
       "    Kingdom    Clade\n",
       "I69    2157    28890\n",
       "I8     2157  1783275\n",
       "I34    2157    28890\n",
       "I55    2157    28890\n",
       "I63    2157    28890\n",
       "..      ...      ...\n",
       "I66    2157    28890\n",
       "I40       2  1783272\n",
       "I18       2   200940\n",
       "I78    2157    28890\n",
       "I4     2157    28890\n",
       "\n",
       "[78 rows x 2 columns]"
      ]
     },
     "execution_count": 57,
     "metadata": {},
     "output_type": "execute_result"
    }
   ],
   "source": [
    "intnodes = pd.DataFrame(index=list(set(intnodes)))\n",
    "intnodes[\"Kingdom\"] = \"\"\n",
    "intnodes[\"Clade\"] = \"\"\n",
    "\n",
    "for node in COG.traverse():\n",
    "    if node.is_leaf()==False:\n",
    "        unique_kingdom = list(set([leaf.kingdom for leaf in node.iter_leaves()]))\n",
    "        unique_clade = list(set([leaf.clade for leaf in node.iter_leaves()]))\n",
    "        intnodes.Kingdom.loc[node.name] = unique_kingdom[0]\n",
    "        intnodes.Clade.loc[node.name] = unique_clade[0]\n",
    "\n",
    "intnodes"
   ]
  },
  {
   "cell_type": "markdown",
   "metadata": {},
   "source": [
    "## Write as iTOL annotation file (https://itol.embl.de/help.cgi)"
   ]
  },
  {
   "cell_type": "code",
   "execution_count": 59,
   "metadata": {},
   "outputs": [
    {
     "data": {
      "text/html": [
       "<div>\n",
       "<style scoped>\n",
       "    .dataframe tbody tr th:only-of-type {\n",
       "        vertical-align: middle;\n",
       "    }\n",
       "\n",
       "    .dataframe tbody tr th {\n",
       "        vertical-align: top;\n",
       "    }\n",
       "\n",
       "    .dataframe thead th {\n",
       "        text-align: right;\n",
       "    }\n",
       "</style>\n",
       "<table border=\"1\" class=\"dataframe\">\n",
       "  <thead>\n",
       "    <tr style=\"text-align: right;\">\n",
       "      <th></th>\n",
       "      <th>annot</th>\n",
       "      <th>ColourCode</th>\n",
       "      <th>Kingdom</th>\n",
       "    </tr>\n",
       "  </thead>\n",
       "  <tbody>\n",
       "    <tr>\n",
       "      <th>I69</th>\n",
       "      <td>range</td>\n",
       "      <td>#DDDBEA</td>\n",
       "      <td>2157</td>\n",
       "    </tr>\n",
       "    <tr>\n",
       "      <th>I8</th>\n",
       "      <td>range</td>\n",
       "      <td>#DDDBEA</td>\n",
       "      <td>2157</td>\n",
       "    </tr>\n",
       "    <tr>\n",
       "      <th>I34</th>\n",
       "      <td>range</td>\n",
       "      <td>#DDDBEA</td>\n",
       "      <td>2157</td>\n",
       "    </tr>\n",
       "    <tr>\n",
       "      <th>I55</th>\n",
       "      <td>range</td>\n",
       "      <td>#DDDBEA</td>\n",
       "      <td>2157</td>\n",
       "    </tr>\n",
       "    <tr>\n",
       "      <th>I63</th>\n",
       "      <td>range</td>\n",
       "      <td>#DDDBEA</td>\n",
       "      <td>2157</td>\n",
       "    </tr>\n",
       "    <tr>\n",
       "      <th>...</th>\n",
       "      <td>...</td>\n",
       "      <td>...</td>\n",
       "      <td>...</td>\n",
       "    </tr>\n",
       "    <tr>\n",
       "      <th>I66</th>\n",
       "      <td>range</td>\n",
       "      <td>#DDDBEA</td>\n",
       "      <td>2157</td>\n",
       "    </tr>\n",
       "    <tr>\n",
       "      <th>I40</th>\n",
       "      <td>range</td>\n",
       "      <td>#DFF1DE</td>\n",
       "      <td>2</td>\n",
       "    </tr>\n",
       "    <tr>\n",
       "      <th>I18</th>\n",
       "      <td>range</td>\n",
       "      <td>#DFF1DE</td>\n",
       "      <td>2</td>\n",
       "    </tr>\n",
       "    <tr>\n",
       "      <th>I78</th>\n",
       "      <td>range</td>\n",
       "      <td>#DDDBEA</td>\n",
       "      <td>2157</td>\n",
       "    </tr>\n",
       "    <tr>\n",
       "      <th>I4</th>\n",
       "      <td>range</td>\n",
       "      <td>#DDDBEA</td>\n",
       "      <td>2157</td>\n",
       "    </tr>\n",
       "  </tbody>\n",
       "</table>\n",
       "<p>78 rows × 3 columns</p>\n",
       "</div>"
      ],
      "text/plain": [
       "     annot ColourCode Kingdom\n",
       "I69  range    #DDDBEA    2157\n",
       "I8   range    #DDDBEA    2157\n",
       "I34  range    #DDDBEA    2157\n",
       "I55  range    #DDDBEA    2157\n",
       "I63  range    #DDDBEA    2157\n",
       "..     ...        ...     ...\n",
       "I66  range    #DDDBEA    2157\n",
       "I40  range    #DFF1DE       2\n",
       "I18  range    #DFF1DE       2\n",
       "I78  range    #DDDBEA    2157\n",
       "I4   range    #DDDBEA    2157\n",
       "\n",
       "[78 rows x 3 columns]"
      ]
     },
     "execution_count": 59,
     "metadata": {},
     "output_type": "execute_result"
    }
   ],
   "source": [
    "Colours = pd.DataFrame(data = [\"#DFF1DE\",\"#DDDBEA\"], index = list(set(intnodes.Kingdom)), columns=[\"ColourCode\"]) #make an index df matching colours to kingdoms\n",
    "\n",
    "intnodes[\"annot\"] = \"range\"\n",
    "intnodes = intnodes.join(Colours, on='Kingdom')[[\"annot\",\"ColourCode\",\"Kingdom\"]]\n",
    "intnodes"
   ]
  },
  {
   "cell_type": "code",
   "execution_count": 69,
   "metadata": {},
   "outputs": [],
   "source": [
    "COG.write(format = 1, outfile=f\"../Data/LGTAnalysis/{COG_name}/{COG_name}_AnnotIntNodes.nwk\")\n",
    "with open('file.csv', 'a') as file:\n",
    "    file.write('TREE_COLORS\\nSEPARATOR TAB\\nDATA\\n')\n",
    "    intnodes.to_csv(f\"../Data/LGTAnalysis/{COG_name}/{COG_name}_AnnotIntNodes.csv\", sep='\\t', header = False)\n"
   ]
  }
 ],
 "metadata": {
  "kernelspec": {
   "display_name": "PhyloETE",
   "language": "python",
   "name": "phyloete"
  },
  "language_info": {
   "codemirror_mode": {
    "name": "ipython",
    "version": 3
   },
   "file_extension": ".py",
   "mimetype": "text/x-python",
   "name": "python",
   "nbconvert_exporter": "python",
   "pygments_lexer": "ipython3",
   "version": "3.9.15"
  }
 },
 "nbformat": 4,
 "nbformat_minor": 4
}
