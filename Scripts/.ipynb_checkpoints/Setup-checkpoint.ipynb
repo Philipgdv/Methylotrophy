{
 "cells": [
  {
   "cell_type": "code",
   "execution_count": null,
   "metadata": {},
   "outputs": [],
   "source": [
    "import numpy as np\n",
    "import pandas as pd\n",
    "import os\n",
    "import matplotlib.pyplot as plt\n",
    "from os.path import join\n",
    "import ftplib\n",
    "import urllib3"
   ]
  },
  {
   "cell_type": "markdown",
   "metadata": {},
   "source": [
    "# Get the Uniprot Proteome ID of the organism of interest and the NCBI taxonomic ID of the parent clade to compare it to"
   ]
  },
  {
   "cell_type": "code",
   "execution_count": null,
   "metadata": {},
   "outputs": [],
   "source": [
    "if os.path.isfile( \"Data/input/UPID_OOI.txt\"):\n",
    "    UPID_OOI = open(\"Data/input/UPID_OOI.txt\").read().replace('\\n', '')\n",
    "    print(\"UPID: \", UPID_OOI)\n",
    "else: \n",
    "    text_file = open(\"Data/input/UPID_OOI.txt\", \"w\")\n",
    "    print(\"Please enter the uniprot proteome ID of the organism of interest here:\")\n",
    "    UPID_OOI = str(input())\n",
    "    n = text_file.write(UPID_OOI)\n",
    "    text_file.close()"
   ]
  },
  {
   "cell_type": "code",
   "execution_count": null,
   "metadata": {},
   "outputs": [],
   "source": [
    "if os.path.isfile(\"Data/input/TaxonID.txt\"):\n",
    "    TaxID = open(\"Data/input/TaxonID.txt\").read().replace('\\n', '')\n",
    "    print(\"NCBI Taxon ID: \", TaxID)\n",
    "else: \n",
    "    text_file = open(\"Data/input/TaxonID.txt\", \"w\")\n",
    "    print(\"Please enter the taxonomic ID of the parent clade of interest here:\")\n",
    "    TaxID = str(input())\n",
    "    n = text_file.write(TaxID)\n",
    "    text_file.close()"
   ]
  },
  {
   "cell_type": "markdown",
   "metadata": {},
   "source": [
    "# Quick look at the taxon"
   ]
  },
  {
   "cell_type": "code",
   "execution_count": null,
   "metadata": {},
   "outputs": [],
   "source": [
    "SpIndex = pd.read_csv(f\"https://rest.uniprot.org/proteomes/search?query=(taxonomy_id:{TaxID})&fields=upid%2Corganism%2Corganism_id%2Cprotein_count%2Cgenome_assembly&&format=tsv&size=500\", sep=\"\\t\", index_col = 'Proteome Id')[0:2]\n",
    "SpIndex"
   ]
  },
  {
   "cell_type": "markdown",
   "metadata": {},
   "source": [
    "# Find the assembly statistics for each entry\n",
    "This takes a bit of time"
   ]
  },
  {
   "cell_type": "code",
   "execution_count": null,
   "metadata": {},
   "outputs": [],
   "source": [
    "SpIndex.rename(columns={'Genome assembly ID':'Assembly'}, inplace=True)\n",
    "SpIndex[\"AssemblyFullName\"] = \"NaN\"\n",
    "SpIndex[\"SeqLen\"] = \"NaN\"\n",
    "SpIndex[\"Contigs\"] = \"NaN\"\n",
    "i = 0\n",
    "\n",
    "for PID in SpIndex.index:\n",
    "    i = i + 1\n",
    "    try:\n",
    "        ftp = ftplib.FTP('ftp.ncbi.nlm.nih.gov', 'anonymous', 'password')\n",
    "        ftp.cwd(f'genomes/all/GCA/{SpIndex.loc[PID,\"Assembly\"][4:7]}/{SpIndex.loc[PID,\"Assembly\"][7:10]}/{SpIndex.loc[PID,\"Assembly\"][10:13]}/')\n",
    "        if len(ftp.nlst()) == 1:\n",
    "            print(PID,SpIndex.loc[PID,\"Assembly\"], f\"Progress {round(i/len(SpIndex.index)*100,1)}%\")\n",
    "            SpIndex.loc[PID,\"AssemblyFullName\"] = ftp.nlst()[0]\n",
    "            url = f'https://ftp.ncbi.nlm.nih.gov/genomes/all/GCA/{SpIndex.loc[PID,\"Assembly\"][4:7]}/{SpIndex.loc[PID,\"Assembly\"][7:10]}/{SpIndex.loc[PID,\"Assembly\"][10:13]}/{SpIndex.loc[PID,\"AssemblyFullName\"]}/{SpIndex.loc[PID,\"AssemblyFullName\"]}_assembly_stats.txt'\n",
    "            stats = pd.read_csv(url, comment = \"#\", sep = \"\\t\", header = None)\n",
    "            stats = stats[stats.iloc[:,0] == \"all\"].set_index(4).iloc[:,-1]\n",
    "            SpIndex.loc[PID,\"SeqLen\"] = stats[\"total-length\"]\n",
    "            if stats[\"contig-count\"] > 0:\n",
    "                SpIndex.loc[PID,\"Contigs\"] = stats[\"contig-count\"]\n",
    "        else:\n",
    "            print(\"More than one assembly\")\n",
    "        print(f'\\t Assembly is {SpIndex.loc[PID,\"SeqLen\"]} bp long and consists of {SpIndex.loc[PID,\"Contigs\"]} Contigs')\n",
    "        ftp.close()\n",
    "    except:\n",
    "        pass\n",
    "\n",
    "SpIndex[[\"Contigs\",\"SeqLen\"]] = SpIndex[[\"Contigs\",\"SeqLen\"]].replace(\"NaN\",1).astype(int)\n",
    "\n",
    "SpIndex"
   ]
  },
  {
   "cell_type": "markdown",
   "metadata": {},
   "source": [
    "# Plot the assembly quality"
   ]
  },
  {
   "cell_type": "code",
   "execution_count": null,
   "metadata": {},
   "outputs": [],
   "source": [
    "plt.figure(figsize=(10, 5))\n",
    "plt.title(\"Assembly Quality Assesment\")\n",
    "plt.scatter(SpIndex[\"Contigs\"],SpIndex[\"SeqLen\"]/1000000)\n",
    "plt.hlines(1,0,1000, linewidth = 0.5)\n",
    "plt.vlines(300,0,10, linewidth = 0.5)\n",
    "plt.xlabel(r'Contig count')\n",
    "plt.ylabel(r'Total sequence length ($10^6$ bp)')\n",
    "plt.axis([0, 550, 0, 5.5])\n",
    "\n",
    "plt.savefig('Data/output/AssemblyQC.png')\n",
    "\n",
    "plt.show()"
   ]
  },
  {
   "cell_type": "markdown",
   "metadata": {},
   "source": [
    "# Filter for assembly quality and save Uniprot IDs to txt file "
   ]
  },
  {
   "cell_type": "code",
   "execution_count": null,
   "metadata": {},
   "outputs": [],
   "source": [
    "SpIndex_CutOff = SpIndex[SpIndex[\"SeqLen\"] > 1000000]\n",
    "SpIndex_CutOff = SpIndex_CutOff[SpIndex_CutOff[\"Contigs\"] < 300]\n",
    "\n",
    "SpIndex_CutOff.to_csv(\"Data/input/SpeciesIndexDF.tsv\", sep=\"\\t\", index = True)\n",
    "SpIndex_CutOff.reset_index()[\"Proteome Id\"].to_csv('Data/input/UPIDs.txt', sep='\\n', index=False, header=False)\n",
    "\n",
    "print(SpIndex_CutOff.index)"
   ]
  }
 ],
 "metadata": {
  "kernelspec": {
   "display_name": "snakemake",
   "language": "python",
   "name": "snakemake"
  },
  "language_info": {
   "codemirror_mode": {
    "name": "ipython",
    "version": 3
   },
   "file_extension": ".py",
   "mimetype": "text/x-python",
   "name": "python",
   "nbconvert_exporter": "python",
   "pygments_lexer": "ipython3",
   "version": "3.9.13"
  }
 },
 "nbformat": 4,
 "nbformat_minor": 5
}
