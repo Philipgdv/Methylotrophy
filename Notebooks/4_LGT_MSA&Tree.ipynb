{
 "cells": [
  {
   "cell_type": "code",
   "execution_count": 1,
   "metadata": {},
   "outputs": [],
   "source": [
    "from ete3 import PhyloTree, Tree, NCBITaxa, TreeStyle, AttrFace, NodeStyle\n",
    "import matplotlib.pyplot as plt\n",
    "import numpy as np\n",
    "import pandas as pd\n",
    "import os\n",
    "from os.path import join\n",
    "import urllib3\n",
    "import shutil\n",
    "from Bio import SeqIO\n",
    "import subprocess\n",
    "import time\n",
    "\n",
    "ncbi = NCBITaxa()"
   ]
  },
  {
   "cell_type": "markdown",
   "metadata": {},
   "source": [
    "The multiple sequence allignments were made all in bash by downloading the unaligned FASTA sequences of EggNOG 5 spearately for bacteria and archaea and merging them into one file, and retrieveing the multiple sequence alignment from the corresponding orthologous group in the orthofinder results. The OF MSA was combined with the EggNOG sequences using the MAFFT -add function. The FASTA headers of the Asgard archaea were changed to start with their taxonomic identifier \"1935183.\". This file was then used as input for fasttree.\n",
    "\n",
    "\n",
    "Example code:\n",
    "\n",
    "mafft --auto --add /folder/EggNOG_COG.fasta --reorder /folder/OF_OG.fa > /folder/COG_msa.fasta\n",
    "\n",
    "fasttree /folder/COG_msa.fasta > /folder/COG.nwk\n",
    "\n"
   ]
  },
  {
   "cell_type": "markdown",
   "metadata": {},
   "source": [
    "# Manually add the archaeal COGs, use root level of EggNOG 6"
   ]
  },
  {
   "cell_type": "code",
   "execution_count": 2,
   "metadata": {},
   "outputs": [
    {
     "data": {
      "text/html": [
       "<div>\n",
       "<style scoped>\n",
       "    .dataframe tbody tr th:only-of-type {\n",
       "        vertical-align: middle;\n",
       "    }\n",
       "\n",
       "    .dataframe tbody tr th {\n",
       "        vertical-align: top;\n",
       "    }\n",
       "\n",
       "    .dataframe thead th {\n",
       "        text-align: right;\n",
       "    }\n",
       "</style>\n",
       "<table border=\"1\" class=\"dataframe\">\n",
       "  <thead>\n",
       "    <tr style=\"text-align: right;\">\n",
       "      <th></th>\n",
       "      <th>0</th>\n",
       "      <th>Archaeal</th>\n",
       "    </tr>\n",
       "  </thead>\n",
       "  <tbody>\n",
       "    <tr>\n",
       "      <th>AckA</th>\n",
       "      <td>COG0282</td>\n",
       "      <td>[arCOG05260]</td>\n",
       "    </tr>\n",
       "    <tr>\n",
       "      <th>FolD</th>\n",
       "      <td>COG0190</td>\n",
       "      <td></td>\n",
       "    </tr>\n",
       "    <tr>\n",
       "      <th>MetV</th>\n",
       "      <td>COG4656</td>\n",
       "      <td></td>\n",
       "    </tr>\n",
       "    <tr>\n",
       "      <th>AcsE</th>\n",
       "      <td>COG1410</td>\n",
       "      <td></td>\n",
       "    </tr>\n",
       "    <tr>\n",
       "      <th>MtrH</th>\n",
       "      <td>COG1962</td>\n",
       "      <td>[arCOG03220, arCOG04336]</td>\n",
       "    </tr>\n",
       "    <tr>\n",
       "      <th>MtaA</th>\n",
       "      <td>COG0407</td>\n",
       "      <td>[arCOG02028, arCOG03323, arCOG03324, arCOG03325]</td>\n",
       "    </tr>\n",
       "    <tr>\n",
       "      <th>MtaC</th>\n",
       "      <td>COG5012</td>\n",
       "      <td>[arCOG02028, arCOG02030, arCOG02032, arCOG0332...</td>\n",
       "    </tr>\n",
       "  </tbody>\n",
       "</table>\n",
       "</div>"
      ],
      "text/plain": [
       "            0                                           Archaeal\n",
       "AckA  COG0282                                       [arCOG05260]\n",
       "FolD  COG0190                                                   \n",
       "MetV  COG4656                                                   \n",
       "AcsE  COG1410                                                   \n",
       "MtrH  COG1962                           [arCOG03220, arCOG04336]\n",
       "MtaA  COG0407   [arCOG02028, arCOG03323, arCOG03324, arCOG03325]\n",
       "MtaC  COG5012  [arCOG02028, arCOG02030, arCOG02032, arCOG0332..."
      ]
     },
     "execution_count": 2,
     "metadata": {},
     "output_type": "execute_result"
    }
   ],
   "source": [
    "COGs = pd.DataFrame([\"COG0282\", \"COG0190\", \"COG4656\", \"COG1410\", \"COG1962\", \"COG0407\", \"COG5012\"],\n",
    "                    index=[\"AckA\", \"FolD\", \"MetV\", \"AcsE\", \"MtrH\", \"MtaA\", \"MtaC\"])\n",
    "\n",
    "COGs[\"Archaeal\"] = pd.Series([[\"arCOG05260\"], \"\", \"\", \"\", [\"arCOG03220\", \"arCOG04336\"], [\"arCOG02028\", \"arCOG03323\", \"arCOG03324\", \"arCOG03325\"], [\n",
    "                             \"arCOG02028\", \"arCOG02030\", \"arCOG02032\", \"arCOG03323\", \"arCOG03402\", \"arCOG03473\", \"arCOG03932\"]], index=[\"AckA\", \"FolD\", \"MetV\", \"AcsE\", \"MtrH\", \"MtaA\", \"MtaC\"])\n",
    "COGs"
   ]
  },
  {
   "cell_type": "markdown",
   "metadata": {},
   "source": [
    "Load the mapping file"
   ]
  },
  {
   "cell_type": "code",
   "execution_count": 3,
   "metadata": {},
   "outputs": [
    {
     "data": {
      "text/html": [
       "<div>\n",
       "<style scoped>\n",
       "    .dataframe tbody tr th:only-of-type {\n",
       "        vertical-align: middle;\n",
       "    }\n",
       "\n",
       "    .dataframe tbody tr th {\n",
       "        vertical-align: top;\n",
       "    }\n",
       "\n",
       "    .dataframe thead th {\n",
       "        text-align: right;\n",
       "    }\n",
       "</style>\n",
       "<table border=\"1\" class=\"dataframe\">\n",
       "  <thead>\n",
       "    <tr style=\"text-align: right;\">\n",
       "      <th></th>\n",
       "      <th>0</th>\n",
       "      <th>Archaeal</th>\n",
       "      <th>OFOG</th>\n",
       "    </tr>\n",
       "  </thead>\n",
       "  <tbody>\n",
       "    <tr>\n",
       "      <th>AckA</th>\n",
       "      <td>COG0282</td>\n",
       "      <td>[arCOG05260]</td>\n",
       "      <td>NaN</td>\n",
       "    </tr>\n",
       "    <tr>\n",
       "      <th>FolD</th>\n",
       "      <td>COG0190</td>\n",
       "      <td></td>\n",
       "      <td>[OG0001033]</td>\n",
       "    </tr>\n",
       "    <tr>\n",
       "      <th>MetV</th>\n",
       "      <td>COG4656</td>\n",
       "      <td></td>\n",
       "      <td>[OG0000883, OG0004585]</td>\n",
       "    </tr>\n",
       "    <tr>\n",
       "      <th>AcsE</th>\n",
       "      <td>COG1410</td>\n",
       "      <td></td>\n",
       "      <td>[OG0003553]</td>\n",
       "    </tr>\n",
       "    <tr>\n",
       "      <th>MtrH</th>\n",
       "      <td>COG1962</td>\n",
       "      <td>[arCOG03220, arCOG04336]</td>\n",
       "      <td>[OG0000339]</td>\n",
       "    </tr>\n",
       "    <tr>\n",
       "      <th>MtaA</th>\n",
       "      <td>COG0407</td>\n",
       "      <td>[arCOG02028, arCOG03323, arCOG03324, arCOG03325]</td>\n",
       "      <td>NaN</td>\n",
       "    </tr>\n",
       "    <tr>\n",
       "      <th>MtaC</th>\n",
       "      <td>COG5012</td>\n",
       "      <td>[arCOG02028, arCOG02030, arCOG02032, arCOG0332...</td>\n",
       "      <td>[OG0000098, OG0002348, OG0004668]</td>\n",
       "    </tr>\n",
       "  </tbody>\n",
       "</table>\n",
       "</div>"
      ],
      "text/plain": [
       "            0                                           Archaeal  \\\n",
       "AckA  COG0282                                       [arCOG05260]   \n",
       "FolD  COG0190                                                      \n",
       "MetV  COG4656                                                      \n",
       "AcsE  COG1410                                                      \n",
       "MtrH  COG1962                           [arCOG03220, arCOG04336]   \n",
       "MtaA  COG0407   [arCOG02028, arCOG03323, arCOG03324, arCOG03325]   \n",
       "MtaC  COG5012  [arCOG02028, arCOG02030, arCOG02032, arCOG0332...   \n",
       "\n",
       "                                   OFOG  \n",
       "AckA                                NaN  \n",
       "FolD                        [OG0001033]  \n",
       "MetV             [OG0000883, OG0004585]  \n",
       "AcsE                        [OG0003553]  \n",
       "MtrH                        [OG0000339]  \n",
       "MtaA                                NaN  \n",
       "MtaC  [OG0000098, OG0002348, OG0004668]  "
      ]
     },
     "execution_count": 3,
     "metadata": {},
     "output_type": "execute_result"
    }
   ],
   "source": [
    "emapper = pd.read_csv(\"../Data/input/MM_jbrjl6fg.emapper.annotations.tsv\",\n",
    "                      sep=\"\\t\", comment=\"#\", header=None)\n",
    "emapper.columns = [\"query\", \"seed_ortholog\", \"evalue\", \"score\", \"eggNOG_OGs\", \"max_annot_lvl\", \"COG_category\", \"Description\", \"Preferred_name\",\n",
    "                   \"GOs\", \"EC\", \"KEGG_ko\", \"KEGG_Pathway\", \"KEGG_Module\", \"KEGG_Reaction\", \"KEGG_rclass\", \"BRITE\", \"KEGG_TC\", \"CAZy\", \"BiGG_Reaction\", \"PFAMs\"]\n",
    "\n",
    "OFOG_Annot = pd.DataFrame()\n",
    "OFOG_Annot[\"OFOG\"] = emapper[\"query\"].str.split(\".\", expand=True)[0]\n",
    "OFOG_Annot[\"eOG\"] = emapper[\"eggNOG_OGs\"].str.split(\"@\", expand=True)[0]\n",
    "\n",
    "LinkedCOGs = COGs.merge(OFOG_Annot.pivot_table(\n",
    "    index=\"eOG\", values=\"OFOG\", aggfunc=list), how=\"left\", left_on=0, right_on=\"eOG\")\n",
    "LinkedCOGs.index = COGs.index\n",
    "LinkedCOGs"
   ]
  },
  {
   "cell_type": "markdown",
   "metadata": {},
   "source": [
    "# Download and gather sequences, align and build tree"
   ]
  },
  {
   "cell_type": "markdown",
   "metadata": {},
   "source": [
    "### Download the bacterial level MSA from EggNOG"
   ]
  },
  {
   "cell_type": "code",
   "execution_count": null,
   "metadata": {},
   "outputs": [],
   "source": [
    "for OG in COGs.index:\n",
    "    os.makedirs(f\"../Data/LGTAnalysis/{OG}\")\n",
    "    url = f\"http://eggnogapi5.embl.de/nog_data/text/raw_alg/{COGs.loc[OG,0]}\"\n",
    "    filename = f\"../Data/LGTAnalysis/{OG}/{COGs.loc[OG,0]}_msa.fa\"\n",
    "    c = urllib3.PoolManager()\n",
    "    with c.request('GET', url, preload_content=False) as res, open(filename, 'wb') as out_file:\n",
    "        shutil.copyfileobj(res, out_file)"
   ]
  },
  {
   "cell_type": "markdown",
   "metadata": {},
   "source": [
    "### Download the corresponding Archaeal level MSAs from EggNOG"
   ]
  },
  {
   "cell_type": "code",
   "execution_count": null,
   "metadata": {},
   "outputs": [],
   "source": [
    "for OG in COGs[COGs.Archaeal != \"\"].index:\n",
    "    for arCOG in COGs.Archaeal[OG]:\n",
    "        url = f\"http://eggnogapi5.embl.de/nog_data/text/raw_alg/{arCOG}\"\n",
    "        filename = f\"../Data/LGTAnalysis/{OG}/{arCOG}.fasta\"\n",
    "        c = urllib3.PoolManager()\n",
    "        with c.request('GET', url, preload_content=False) as res, open(filename, 'wb') as out_file:\n",
    "            shutil.copyfileobj(res, out_file)"
   ]
  },
  {
   "cell_type": "markdown",
   "metadata": {},
   "source": [
    "### Copy the OrthoFinder groups and add Taxonomic ID for Asgard"
   ]
  },
  {
   "cell_type": "code",
   "execution_count": null,
   "metadata": {},
   "outputs": [],
   "source": [
    "for OG in LinkedCOGs[LinkedCOGs.OFOG.notna()].index:\n",
    "    for OFOG in LinkedCOGs.OFOG[OG]:\n",
    "        shutil.copy(\n",
    "            f\"../Data/OFResults/MultipleSequenceAlignments/{OFOG}.fa\", f\"../Data/LGTAnalysis/{OG}/{OFOG}.fasta\")\n",
    "        cmd = f\" sed -i '' 's/>UP/>1935183.UP/' ../Data/LGTAnalysis/{OG}/{OFOG}.fasta\"\n",
    "        subprocess.call(cmd, shell=True)"
   ]
  },
  {
   "cell_type": "markdown",
   "metadata": {},
   "source": [
    "### Concatenate all sequences to add into a single FASTA"
   ]
  },
  {
   "cell_type": "code",
   "execution_count": null,
   "metadata": {},
   "outputs": [],
   "source": [
    "for OG in COGs.index:\n",
    "    cmd = f' cat ../Data/LGTAnalysis/{OG}/*.fasta >> ../Data/LGTAnalysis/{OG}/SeqstoAdd.fasta'\n",
    "    subprocess.call(cmd, shell=True)"
   ]
  },
  {
   "cell_type": "markdown",
   "metadata": {},
   "source": [
    "### Combine in a single MSA using MAFFT"
   ]
  },
  {
   "cell_type": "code",
   "execution_count": null,
   "metadata": {
    "scrolled": true
   },
   "outputs": [],
   "source": [
    "for OG in COGs.index:\n",
    "    seqs_old = f\"../Data/LGTAnalysis/{OG}/{COGs.loc[OG,0]}_msa.fa\"\n",
    "    seqs_add = f\"../Data/LGTAnalysis/{OG}/SeqstoAdd.fasta\"\n",
    "    aln_file = f\"../Data/LGTAnalysis/{OG}/{OG}_combined.fasta\"\n",
    "    tree = f\"../Data/LGTAnalysis/{OG}/{OG}.nwk\"\n",
    "    cmd_MAFFT = f' mafft --auto --add {seqs_add} --reorder {seqs_old} > {aln_file}'\n",
    "    cmd_FastTree = f'fasttree {aln_file} > {tree}'\n",
    "\n",
    "    subprocess.call(cmd_MAFFT, shell=True)\n",
    "    print(f'alignment of additional sequences to {OG} is completed')\n",
    "\n",
    "    subprocess.call(cmd_FastTree, shell=True)\n",
    "    print(f'The phylogenetic tree for {OG} has been built')"
   ]
  },
  {
   "cell_type": "code",
   "execution_count": null,
   "metadata": {},
   "outputs": [],
   "source": [
    "for OG in COGs.index:\n",
    "    aln_file = f\"../Data/LGTAnalysis/{OG}/{OG}_combined.fasta\"\n",
    "    tree = f\"../Data/LGTAnalysis/{OG}/{OG}.nwk\"\n",
    "    cmd_FastTree = f'fasttree {aln_file} > {tree}'\n",
    "\n",
    "    #subprocess.call(cmd_FastTree, shell=True)\n",
    "    print(cmd_FastTree)  # f'The phylogenetic tree for {OG} has been built')"
   ]
  },
  {
   "cell_type": "markdown",
   "metadata": {},
   "source": [
    "# Load the tree and color it by phylogeny"
   ]
  },
  {
   "cell_type": "code",
   "execution_count": null,
   "metadata": {},
   "outputs": [],
   "source": [
    "COG_name = \"AckA\""
   ]
  },
  {
   "cell_type": "code",
   "execution_count": null,
   "metadata": {
    "scrolled": true
   },
   "outputs": [],
   "source": [
    "\n",
    "COG = PhyloTree(f\"../Data/LGTAnalysis/{COG_name}/{COG_name}.nwk\", format=1,\n",
    "                sp_naming_function=lambda name: ncbi.get_lineage(name.split('.')[0])[3])\n",
    "R = COG.get_midpoint_outgroup()\n",
    "# and set it as tree outgroup\n",
    "COG.set_outgroup(R)\n",
    "COG.ladderize()\n",
    "\n",
    "ts = TreeStyle()\n",
    "ts.mode = \"c\"\n",
    "ts.show_leaf_name = False"
   ]
  },
  {
   "cell_type": "code",
   "execution_count": null,
   "metadata": {
    "scrolled": true
   },
   "outputs": [],
   "source": [
    "for lf in COG.iter_leaves():\n",
    "    lf.add_feature(\"clade\", ncbi.get_lineage(lf.name.split('.')[0])[3])\n",
    "\n",
    "clades = []\n",
    "for lf in COG.iter_leaves():\n",
    "    clades.append(lf.clade)\n",
    "\n",
    "Attr_CladeNames = pd.DataFrame(index=list(set(clades)))\n",
    "Attr_CladeNames[\"Name\"] = \"\"\n",
    "\n",
    "for TaxID in Attr_CladeNames.index:\n",
    "    Attr_CladeNames.loc[TaxID] = ncbi.translate_to_names([TaxID])\n",
    "\n",
    "colors = {1: \"Black\",\n",
    "          49928: \"RoyalBlue\",\n",
    "          2323: \"RoyalBlue\",\n",
    "          1783275: \"Coral\",\n",
    "          1935183: \"OrangeRed\",\n",
    "          28890: \"DarkOrange\",\n",
    "          2138240: \"Aqua\",\n",
    "          2498710: \"PaleTurquoise\",\n",
    "          508458: \"Aquamarine\",\n",
    "          203691: \"CadetBlue\",\n",
    "          3018035: \"SteelBlue\",\n",
    "          40117: \"MediumBlue\",\n",
    "          32066: \"Navy\",\n",
    "          1224: \"Indigo\",\n",
    "          2818505: \"Lime\",\n",
    "          68297: \"LimeGreen\",\n",
    "          200783: \"ForestGreen\",\n",
    "          200918: \"DarkOliveGreen\",\n",
    "          1783257: \"Olive\",\n",
    "          200930: \"Purple\",\n",
    "          1802340: \"SlateBlue\",\n",
    "          1783270: \"DarkViolet\",\n",
    "          1783272: \"Plum\",\n",
    "          200938: \"Fuchsia\",\n",
    "          200940: \"DarkMagenta\",\n",
    "          29547: \"RoyalBlue\",\n",
    "          1930617: \"DarkKhaki\",\n",
    "          57723: \"BlueViolet\"}\n",
    "\n",
    "Attr_CladeNames[\"color\"] = pd.Series(colors.values(), index=colors.keys())\n",
    "\n",
    "Attr_CladeNames"
   ]
  },
  {
   "cell_type": "code",
   "execution_count": null,
   "metadata": {},
   "outputs": [],
   "source": [
    "for node in COG.traverse():\n",
    "    if node.is_leaf() == False:\n",
    "        leaf_clades = [leaf.clade for leaf in node.iter_leaves()]\n",
    "        unique_clades = list(set(leaf_clades))\n",
    "        node.add_feature(\"clade\", 1)\n",
    "        if (len(unique_clades) == 1):\n",
    "            node.clade = unique_clades[0]\n",
    "\n",
    "#COG.write(format=1, outfile=\"COG0190_AnnotIntNodes.nw\")"
   ]
  },
  {
   "cell_type": "code",
   "execution_count": null,
   "metadata": {},
   "outputs": [],
   "source": [
    "for node in COG.traverse():\n",
    "    node.img_style['hz_line_color'] = colors[node.clade]\n",
    "    node.img_style['vt_line_color'] = colors[node.clade]\n",
    "\n",
    "COG.render(f\"../Data/LGTAnalysis/{COG_name}/{COG_name}.svg\", tree_style=ts)\n",
    "# COG.show(tree_style=ts)"
   ]
  },
  {
   "cell_type": "code",
   "execution_count": null,
   "metadata": {},
   "outputs": [],
   "source": [
    "plt.axis('off')\n",
    "for clade in Attr_CladeNames.index:\n",
    "    plt.plot(np.NaN, np.NaN, Attr_CladeNames.color[clade])\n",
    "\n",
    "plt.legend(Attr_CladeNames.Name)  # , bbox_to_anchor=(1, 1))"
   ]
  }
 ],
 "metadata": {
  "kernelspec": {
   "display_name": "PhyloETE",
   "language": "python",
   "name": "phyloete"
  },
  "language_info": {
   "codemirror_mode": {
    "name": "ipython",
    "version": 3
   },
   "file_extension": ".py",
   "mimetype": "text/x-python",
   "name": "python",
   "nbconvert_exporter": "python",
   "pygments_lexer": "ipython3",
   "version": "3.9.15"
  }
 },
 "nbformat": 4,
 "nbformat_minor": 4
}
